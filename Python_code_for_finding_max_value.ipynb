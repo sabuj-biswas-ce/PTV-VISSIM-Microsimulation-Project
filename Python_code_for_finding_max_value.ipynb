{
  "nbformat": 4,
  "nbformat_minor": 0,
  "metadata": {
    "colab": {
      "provenance": []
    },
    "kernelspec": {
      "name": "python3",
      "display_name": "Python 3"
    },
    "language_info": {
      "name": "python"
    }
  },
  "cells": [
    {
      "cell_type": "markdown",
      "source": [
        "# **`Max value for Average Standstill distance`**"
      ],
      "metadata": {
        "id": "fRiGQ4x_9emc"
      }
    },
    {
      "cell_type": "code",
      "source": [
        "import pandas as pd\n",
        "\n",
        "# Read the file\n",
        "df = pd.read_csv(\"/content/Vissim Project_Data Collection Results_Average Standstill distance.csv\")\n",
        "\n",
        "# Give names to Approach\n",
        "detector_map = {\n",
        "    1: \"From Farmgate\",\n",
        "    2: \"From Tejgaon\",\n",
        "    3: \"From Jahangir Gate\",\n",
        "    4: \"From Urojahaj Mor\"\n",
        "}\n",
        "\n",
        "# Add new column\n",
        "df[\"EntryPoint\"] = df[\"DATACOLLECTIONMEASUREMENT\"].map(detector_map)\n",
        "\n",
        "# Change VEHS column to numbers (if empty make it 0)\n",
        "df[\"VEHS\"] = pd.to_numeric(df[\"VEHS\"], errors=\"coerce\").fillna(0)\n",
        "\n",
        "# Make an empty list for the final table\n",
        "rows = []\n",
        "\n",
        "# Go through each SIMRUN\n",
        "for sim in sorted(df[\"SIMRUN\"].unique()):\n",
        "    # Take only this SIMRUN’s data\n",
        "    temp = df[df[\"SIMRUN\"] == sim]\n",
        "\n",
        "    # Find max value for each Approach\n",
        "    farm = temp[temp[\"EntryPoint\"] == \"From Farmgate\"][\"VEHS\"].max()\n",
        "    tej  = temp[temp[\"EntryPoint\"] == \"From Tejgaon\"][\"VEHS\"].max()\n",
        "    jah  = temp[temp[\"EntryPoint\"] == \"From Jahangir Gate\"][\"VEHS\"].max()\n",
        "    uro  = temp[temp[\"EntryPoint\"] == \"From Urojahaj Mor\"][\"VEHS\"].max()\n",
        "\n",
        "\n",
        "    rows.append([sim, farm, tej, jah, uro])\n",
        "\n",
        "# Make a result DataFrame\n",
        "result = pd.DataFrame(rows, columns=[\"SIMRUN\", \"From Farmgate\", \"From Tejgaon\", \"From Jahangir Gate\", \"From Urojahaj Mor\"])\n",
        "\n",
        "# Save to Excel\n",
        "result.to_excel(\"Average standstill distance vary.xlsx\", index=False)\n",
        "\n",
        "\n",
        "print(result)"
      ],
      "metadata": {
        "colab": {
          "base_uri": "https://localhost:8080/"
        },
        "id": "Jgz2lAmpyx_s",
        "outputId": "d98228c1-522e-4577-8365-063153f6edf6"
      },
      "execution_count": 3,
      "outputs": [
        {
          "output_type": "stream",
          "name": "stdout",
          "text": [
            "    SIMRUN  From Farmgate  From Tejgaon  From Jahangir Gate  From Urojahaj Mor\n",
            "0        1             19            11                  22                 24\n",
            "1       10             15            13                  17                 21\n",
            "2       11             17            12                  22                 20\n",
            "3       12             16            14                  18                 21\n",
            "4       13             17            14                  20                 22\n",
            "5       14             17            10                  20                 22\n",
            "6       15             18            12                  19                 19\n",
            "7       16             14            11                  19                 21\n",
            "8       17             15            12                  22                 23\n",
            "9       18             14            11                  20                 21\n",
            "10      19             16            12                  19                 22\n",
            "11       2             19            15                  25                 21\n",
            "12      20             14            13                  19                 19\n",
            "13      21             16            12                  21                 21\n",
            "14       3             14            11                  22                 24\n",
            "15       4             17            13                  23                 21\n",
            "16       5             19            11                  23                 21\n",
            "17       6             16            14                  20                 21\n",
            "18       7             19            14                  21                 21\n",
            "19       8             13            10                  20                 21\n",
            "20       9             14            12                  22                 21\n",
            "21     AVG             14            10                  19                 20\n",
            "22     MAX             19            15                  25                 24\n",
            "23     MIN             10             9                  16                 19\n",
            "24  STDDEV              2             2                   4                  5\n"
          ]
        }
      ]
    },
    {
      "cell_type": "markdown",
      "source": [
        "# **Max value for Additive Part of safety distance**"
      ],
      "metadata": {
        "id": "gwoE6CnT9pC6"
      }
    },
    {
      "cell_type": "code",
      "source": [
        "import pandas as pd\n",
        "\n",
        "# Read the file\n",
        "df = pd.read_csv(\"/content/Vissim Project_Data Collection Results_Additive Part of safety distance.csv\")\n",
        "\n",
        "# Give names to Approach\n",
        "detector_map = {\n",
        "    1: \"From Farmgate\",\n",
        "    2: \"From Tejgaon\",\n",
        "    3: \"From Jahangir Gate\",\n",
        "    4: \"From Urojahaj Mor\"\n",
        "}\n",
        "\n",
        "# Add new column\n",
        "df[\"EntryPoint\"] = df[\"DATACOLLECTIONMEASUREMENT\"].map(detector_map)\n",
        "\n",
        "# Change VEHS column to numbers (if empty make it 0)\n",
        "df[\"VEHS\"] = pd.to_numeric(df[\"VEHS\"], errors=\"coerce\").fillna(0)\n",
        "\n",
        "# Make an empty list for the final table\n",
        "rows = []\n",
        "\n",
        "# Go through each SIMRUN\n",
        "for sim in sorted(df[\"SIMRUN\"].unique()):\n",
        "    # Take only this SIMRUN’s data\n",
        "    temp = df[df[\"SIMRUN\"] == sim]\n",
        "\n",
        "    # Find max value for each Approach\n",
        "    farm = temp[temp[\"EntryPoint\"] == \"From Farmgate\"][\"VEHS\"].max()\n",
        "    tej  = temp[temp[\"EntryPoint\"] == \"From Tejgaon\"][\"VEHS\"].max()\n",
        "    jah  = temp[temp[\"EntryPoint\"] == \"From Jahangir Gate\"][\"VEHS\"].max()\n",
        "    uro  = temp[temp[\"EntryPoint\"] == \"From Urojahaj Mor\"][\"VEHS\"].max()\n",
        "\n",
        "\n",
        "    rows.append([sim, farm, tej, jah, uro])\n",
        "\n",
        "# Make a Result DataFrame from the list\n",
        "result = pd.DataFrame(rows, columns=[\"SIMRUN\", \"From Farmgate\", \"From Tejgaon\", \"From Jahangir Gate\", \"From Urojahaj Mor\"])\n",
        "\n",
        "# Save to Excel\n",
        "result.to_excel(\"Additive part of safety distance vary.xlsx\", index=False)\n",
        "\n",
        "print(result)"
      ],
      "metadata": {
        "colab": {
          "base_uri": "https://localhost:8080/"
        },
        "id": "iUlh2dtazRN2",
        "outputId": "2084a208-b37a-4294-955f-087b7f827a42"
      },
      "execution_count": 5,
      "outputs": [
        {
          "output_type": "stream",
          "name": "stdout",
          "text": [
            "    SIMRUN  From Farmgate  From Tejgaon  From Jahangir Gate  From Urojahaj Mor\n",
            "0        1             13            12                  22                 21\n",
            "1       10             13            11                  21                 21\n",
            "2       11             18            12                  19                 21\n",
            "3       12             15            16                  21                 21\n",
            "4       13             15            11                  20                 21\n",
            "5       14             15            16                  20                 21\n",
            "6       15             13            10                  20                 21\n",
            "7       16             16            10                  21                 21\n",
            "8       17             18            12                  22                 21\n",
            "9       18             14            12                  21                 21\n",
            "10      19             16            11                  21                 20\n",
            "11       2             18            13                  20                 21\n",
            "12      20             12            11                  19                 21\n",
            "13      21             12            13                  20                 19\n",
            "14       3             16            11                  23                 20\n",
            "15       4             15            14                  21                 24\n",
            "16       5             14            12                  20                 20\n",
            "17       6             18            12                  20                 21\n",
            "18       7             13            13                  20                 20\n",
            "19       8             16            12                  21                 22\n",
            "20       9             17            12                  22                 20\n",
            "21     AVG             12            10                  19                 20\n",
            "22     MAX             18            16                  23                 24\n",
            "23     MIN              9             9                  16                 19\n",
            "24  STDDEV              3             3                   4                  4\n"
          ]
        }
      ]
    },
    {
      "cell_type": "markdown",
      "source": [
        "# **Max Value for Multiplicative part of safety distance**"
      ],
      "metadata": {
        "id": "HC8RrXF09-0u"
      }
    },
    {
      "cell_type": "code",
      "source": [
        "import pandas as pd\n",
        "\n",
        "# Read the file\n",
        "df = pd.read_csv(\"/content/Vissim Project_Data Collection Results_Multiplicative part of safety distance.csv\")\n",
        "\n",
        "# Give names to Approach\n",
        "detector_map = {\n",
        "    1: \"From Farmgate\",\n",
        "    2: \"From Tejgaon\",\n",
        "    3: \"From Jahangir Gate\",\n",
        "    4: \"From Urojahaj Mor\"\n",
        "}\n",
        "\n",
        "# Add new column for Approach\n",
        "df[\"EntryPoint\"] = df[\"DATACOLLECTIONMEASUREMENT\"].map(detector_map)\n",
        "\n",
        "# Change VEHS column to numbers (if empty make it 0)\n",
        "df[\"VEHS\"] = pd.to_numeric(df[\"VEHS\"], errors=\"coerce\").fillna(0)\n",
        "\n",
        "# Make an empty list for the final table\n",
        "rows = []\n",
        "\n",
        "# Go through each SIMRUN\n",
        "for sim in sorted(df[\"SIMRUN\"].unique()):\n",
        "    # Take only this SIMRUN’s data\n",
        "    temp = df[df[\"SIMRUN\"] == sim]\n",
        "\n",
        "    # Find max value\n",
        "    farm = temp[temp[\"EntryPoint\"] == \"From Farmgate\"][\"VEHS\"].max()\n",
        "    tej  = temp[temp[\"EntryPoint\"] == \"From Tejgaon\"][\"VEHS\"].max()\n",
        "    jah  = temp[temp[\"EntryPoint\"] == \"From Jahangir Gate\"][\"VEHS\"].max()\n",
        "    uro  = temp[temp[\"EntryPoint\"] == \"From Urojahaj Mor\"][\"VEHS\"].max()\n",
        "\n",
        "    rows.append([sim, farm, tej, jah, uro])\n",
        "\n",
        "# Make a Result DataFrame\n",
        "result = pd.DataFrame(rows, columns=[\"SIMRUN\", \"From Farmgate\", \"From Tejgaon\", \"From Jahangir Gate\", \"From Urojahaj Mor\"])\n",
        "\n",
        "# Save to Excel\n",
        "result.to_excel(\"Multiplicative part of safety distance vary.xlsx\", index=False)\n",
        "\n",
        "print(result)"
      ],
      "metadata": {
        "colab": {
          "base_uri": "https://localhost:8080/"
        },
        "id": "j6Pda2R92XfV",
        "outputId": "5b6ce464-da5d-473f-e5fb-506616af7b8e"
      },
      "execution_count": 6,
      "outputs": [
        {
          "output_type": "stream",
          "name": "stdout",
          "text": [
            "    SIMRUN  From Farmgate  From Tejgaon  From Jahangir Gate  From Urojahaj Mor\n",
            "0        1             16            12                  21                 20\n",
            "1       10             13            11                  21                 20\n",
            "2       11             17            12                  22                 20\n",
            "3       12             16            12                  19                 21\n",
            "4       13             14            11                  21                 20\n",
            "5       14             13            12                  22                 19\n",
            "6       15             13            11                  18                 24\n",
            "7       16             12            11                  19                 22\n",
            "8       17             13            10                  19                 24\n",
            "9       18             17            13                  20                 19\n",
            "10      19             18            13                  20                 20\n",
            "11       2             14            13                  20                 22\n",
            "12      20             12            12                  21                 21\n",
            "13      21             15            12                  23                 23\n",
            "14       3             16            13                  20                 22\n",
            "15       4             16            13                  21                 23\n",
            "16       5             15            12                  19                 21\n",
            "17       6             15            12                  21                 20\n",
            "18       7             14            11                  19                 23\n",
            "19       8             17            10                  20                 21\n",
            "20       9             18            12                  22                 22\n",
            "21     AVG             12            10                  18                 20\n",
            "22     MAX             18            13                  23                 24\n",
            "23     MIN              9             9                  15                 18\n",
            "24  STDDEV              3             2                   3                  4\n"
          ]
        }
      ]
    }
  ]
}